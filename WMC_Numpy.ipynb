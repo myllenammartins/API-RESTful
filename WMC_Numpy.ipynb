{
  "nbformat": 4,
  "nbformat_minor": 0,
  "metadata": {
    "colab": {
      "provenance": [],
      "collapsed_sections": [
        "pc_JvylrCUY4"
      ],
      "authorship_tag": "ABX9TyOaG2+s+WAtgqkWIbk4uA5a",
      "include_colab_link": true
    },
    "kernelspec": {
      "name": "python3",
      "display_name": "Python 3"
    },
    "language_info": {
      "name": "python"
    }
  },
  "cells": [
    {
      "cell_type": "markdown",
      "metadata": {
        "id": "view-in-github",
        "colab_type": "text"
      },
      "source": [
        "<a href=\"https://colab.research.google.com/github/myllenammartins/API-RESTful/blob/main/WMC_Numpy.ipynb\" target=\"_parent\"><img src=\"https://colab.research.google.com/assets/colab-badge.svg\" alt=\"Open In Colab\"/></a>"
      ]
    },
    {
      "cell_type": "markdown",
      "source": [
        "**Explorando Ecossistemas:**\n",
        "Como bióloga marinha, me encontrei em uma expedição nas profundezas do Oceano Pacífico, onde estávamos estudando a biodiversidade e a saúde dos recifes de coral. O catálogo\n",
        "abaixo demonstra dados das espécies encontradas,considere a\n",
        "seguinte ordem de colunas:\n",
        "* **IDdaespécie**,\n",
        "* **quantidade de representantes encontrados**,\n",
        "* **profundeza**,\n",
        "* **tamanho médio da\n",
        "espécie**.\n"
      ],
      "metadata": {
        "id": "lHWIwv1MR8lv"
      }
    },
    {
      "cell_type": "code",
      "source": [
        "import numpy as np"
      ],
      "metadata": {
        "id": "5CsDRHZKGDXd"
      },
      "execution_count": null,
      "outputs": []
    },
    {
      "cell_type": "code",
      "execution_count": null,
      "metadata": {
        "colab": {
          "base_uri": "https://localhost:8080/"
        },
        "id": "Q2HcbeiiBnjh",
        "outputId": "cb59d819-2d33-4bbe-b87f-0201616153bd"
      },
      "outputs": [
        {
          "output_type": "execute_result",
          "data": {
            "text/plain": [
              "array([[747,  89,  33,   5],\n",
              "       [623, 123,  32,  13],\n",
              "       [501,  22,  49,   2],\n",
              "       [116, 101,  42,  10],\n",
              "       [297,  56,  69,  22],\n",
              "       [613,  64,  27,   7],\n",
              "       [295,  84,  29,  14],\n",
              "       [692, 105,  72,  16],\n",
              "       [229, 103,  35,   5],\n",
              "       [374, 124,  70,   1]])"
            ]
          },
          "metadata": {},
          "execution_count": 9
        }
      ],
      "source": [
        "especies = np.array([[747, 89, 33, 5],\n",
        "                   [623, 123, 32, 13],\n",
        "                   [501,22,49,2],\n",
        "                   [116,101,42,10],\n",
        "                   [297,56,69,22],\n",
        "                   [613,64,27,7],\n",
        "                   [295,84,29,14],\n",
        "                   [692,105,72,16],\n",
        "                   [229,103,35,5],\n",
        "                   [374,124,70,1]])\n",
        "especies"
      ]
    },
    {
      "cell_type": "markdown",
      "source": [
        "A. Selecione a\n",
        "segunda coluna com a ***quantidade de espécies encontradas*** e adicione em um\n",
        "array as **qtd_especies**."
      ],
      "metadata": {
        "id": "zf25HdKmQGVD"
      }
    },
    {
      "cell_type": "code",
      "source": [
        "qtd_especies = especies[:, 1]\n",
        "qtd_especies"
      ],
      "metadata": {
        "colab": {
          "base_uri": "https://localhost:8080/"
        },
        "id": "yx2n740VQcpJ",
        "outputId": "8a47b0fd-41eb-42ff-8660-ddfaaca0edb0"
      },
      "execution_count": null,
      "outputs": [
        {
          "output_type": "execute_result",
          "data": {
            "text/plain": [
              "array([ 89, 123,  22, 101,  56,  64,  84, 105, 103, 124])"
            ]
          },
          "metadata": {},
          "execution_count": 10
        }
      ]
    },
    {
      "cell_type": "markdown",
      "source": [
        "B. De **qtd_especies** selecione apenas as primeiras 3 quantidades e print."
      ],
      "metadata": {
        "id": "9Ba6IrsfQed7"
      }
    },
    {
      "cell_type": "code",
      "source": [
        "print(qtd_especies[:3])"
      ],
      "metadata": {
        "colab": {
          "base_uri": "https://localhost:8080/"
        },
        "id": "U7dOLuVgQtD5",
        "outputId": "2a2fffdb-e1b7-43e0-e462-e5e6049d22ed"
      },
      "execution_count": null,
      "outputs": [
        {
          "output_type": "stream",
          "name": "stdout",
          "text": [
            "[ 89 123  22]\n"
          ]
        }
      ]
    },
    {
      "cell_type": "markdown",
      "source": [
        "C. Print as 5 últimas quantidades de espécies."
      ],
      "metadata": {
        "id": "x8fggjzYQtvI"
      }
    },
    {
      "cell_type": "code",
      "source": [
        "qtd_especies[-5:]"
      ],
      "metadata": {
        "colab": {
          "base_uri": "https://localhost:8080/"
        },
        "id": "sm4ls28xVgr0",
        "outputId": "f4214d01-8348-4c86-cfa5-1efded912b1f"
      },
      "execution_count": null,
      "outputs": [
        {
          "output_type": "execute_result",
          "data": {
            "text/plain": [
              "array([ 64,  84, 105, 103, 124])"
            ]
          },
          "metadata": {},
          "execution_count": 12
        }
      ]
    },
    {
      "cell_type": "code",
      "source": [
        "especies.shape"
      ],
      "metadata": {
        "colab": {
          "base_uri": "https://localhost:8080/"
        },
        "id": "npotCevKRIpx",
        "outputId": "730222ce-589c-494f-93c2-6d854296588f"
      },
      "execution_count": null,
      "outputs": [
        {
          "output_type": "execute_result",
          "data": {
            "text/plain": [
              "(10, 4)"
            ]
          },
          "metadata": {},
          "execution_count": 13
        }
      ]
    },
    {
      "cell_type": "markdown",
      "source": [
        "D. Crie um array que contenha apenas os tamanhos das espécies e ordene por ordem crescente."
      ],
      "metadata": {
        "id": "dlfIixP6Q5la"
      }
    },
    {
      "cell_type": "code",
      "source": [
        "np.sort(especies[:, 3])"
      ],
      "metadata": {
        "colab": {
          "base_uri": "https://localhost:8080/"
        },
        "id": "WsivA9MWRGRY",
        "outputId": "330b0f87-4137-4fb7-d331-eba2e8f3ab35"
      },
      "execution_count": null,
      "outputs": [
        {
          "output_type": "execute_result",
          "data": {
            "text/plain": [
              "array([ 1,  2,  5,  5,  7, 10, 13, 14, 16, 22])"
            ]
          },
          "metadata": {},
          "execution_count": 14
        }
      ]
    },
    {
      "cell_type": "code",
      "source": [
        "np.sort(especies[:, 3])[::-1]"
      ],
      "metadata": {
        "colab": {
          "base_uri": "https://localhost:8080/"
        },
        "id": "xshWs99PWdis",
        "outputId": "047aff50-9d17-4d27-93bf-e4d65b31c6fb"
      },
      "execution_count": null,
      "outputs": [
        {
          "output_type": "execute_result",
          "data": {
            "text/plain": [
              "array([22, 16, 14, 13, 10,  7,  5,  5,  2,  1])"
            ]
          },
          "metadata": {},
          "execution_count": 15
        }
      ]
    },
    {
      "cell_type": "markdown",
      "source": [
        "Usando um index boolean crie um array que contém os dados\n",
        " da maior espécie encontrada(considerando o seu tamanho),esse valor corresponde ao valor 22."
      ],
      "metadata": {
        "id": "Cn6hhi43Y8MT"
      }
    },
    {
      "cell_type": "code",
      "source": [
        "especies[:, 3] == 22\n"
      ],
      "metadata": {
        "colab": {
          "base_uri": "https://localhost:8080/"
        },
        "id": "F3eOW87wZX2_",
        "outputId": "08057193-081a-461f-bf5b-a52bbae3de7f"
      },
      "execution_count": null,
      "outputs": [
        {
          "output_type": "execute_result",
          "data": {
            "text/plain": [
              "array([False, False, False, False,  True, False, False, False, False,\n",
              "       False])"
            ]
          },
          "metadata": {},
          "execution_count": 16
        }
      ]
    },
    {
      "cell_type": "code",
      "source": [
        "maior_especie = especies[especies[:, 3 == 22]]"
      ],
      "metadata": {
        "id": "_uFD2iDW2I_U"
      },
      "execution_count": null,
      "outputs": []
    },
    {
      "cell_type": "markdown",
      "source": [
        "Usando *fency* index faça um array que contém apenas dados da espécie com ID 297."
      ],
      "metadata": {
        "id": "fjnBi5sxZYTh"
      }
    },
    {
      "cell_type": "code",
      "source": [
        "mask_297 = especies[:, 0] == 297"
      ],
      "metadata": {
        "id": "lQ_hANpdZlDM"
      },
      "execution_count": null,
      "outputs": []
    },
    {
      "cell_type": "code",
      "source": [
        "especies[mask_297]"
      ],
      "metadata": {
        "colab": {
          "base_uri": "https://localhost:8080/"
        },
        "id": "1144WYxd3G3d",
        "outputId": "4bb6d435-3aa6-497d-b1c7-7e452275ed87"
      },
      "execution_count": null,
      "outputs": [
        {
          "output_type": "execute_result",
          "data": {
            "text/plain": [
              "array([[297,  56,  69,  22]])"
            ]
          },
          "metadata": {},
          "execution_count": 21
        }
      ]
    },
    {
      "cell_type": "markdown",
      "source": [
        "Usando np.where() faça um array com a linha com dados correspondentes a espécie com 105 representantes encontrados."
      ],
      "metadata": {
        "id": "6nKHB_1pZnuk"
      }
    },
    {
      "cell_type": "code",
      "source": [
        "np.where(especies[:, 1] == 105)"
      ],
      "metadata": {
        "colab": {
          "base_uri": "https://localhost:8080/"
        },
        "id": "n-Lm3T8cZ3Wb",
        "outputId": "cefbfc05-dc07-4087-b6eb-d4b5af028355"
      },
      "execution_count": null,
      "outputs": [
        {
          "output_type": "execute_result",
          "data": {
            "text/plain": [
              "(array([7]),)"
            ]
          },
          "metadata": {},
          "execution_count": 22
        }
      ]
    },
    {
      "cell_type": "code",
      "source": [
        "especies[np.where(especies[:, 1] == 105)]"
      ],
      "metadata": {
        "colab": {
          "base_uri": "https://localhost:8080/"
        },
        "id": "51H2I4E533qh",
        "outputId": "a6983289-d291-43cf-9331-c46121817bd0"
      },
      "execution_count": null,
      "outputs": [
        {
          "output_type": "execute_result",
          "data": {
            "text/plain": [
              "array([[692, 105,  72,  16]])"
            ]
          },
          "metadata": {},
          "execution_count": 23
        }
      ]
    },
    {
      "cell_type": "markdown",
      "source": [
        "Considere a profundeza em que o a espécie foi encontrada substitua valores maiores que 60 com \"Profundo”\n"
      ],
      "metadata": {
        "id": "ngzwTnihZ3wJ"
      }
    },
    {
      "cell_type": "code",
      "source": [
        "especies[:, 2] > 60"
      ],
      "metadata": {
        "colab": {
          "base_uri": "https://localhost:8080/"
        },
        "id": "mJVpZUrqaLNU",
        "outputId": "1a0d519d-0e6c-406c-b083-3ae2a358f894"
      },
      "execution_count": null,
      "outputs": [
        {
          "output_type": "execute_result",
          "data": {
            "text/plain": [
              "array([False, False, False, False,  True, False, False,  True, False,\n",
              "        True])"
            ]
          },
          "metadata": {},
          "execution_count": 24
        }
      ]
    },
    {
      "cell_type": "code",
      "source": [
        "np.where(especies[:, 2] > 60, \"Profundo\", especies[:, 2])"
      ],
      "metadata": {
        "colab": {
          "base_uri": "https://localhost:8080/"
        },
        "id": "eLqAiEen4ZGD",
        "outputId": "b4293cc8-c98c-413f-95d8-b82aaba9f024"
      },
      "execution_count": null,
      "outputs": [
        {
          "output_type": "execute_result",
          "data": {
            "text/plain": [
              "array(['33', '32', '49', '42', 'Profundo', '27', '29', 'Profundo', '35',\n",
              "       'Profundo'], dtype='<U21')"
            ]
          },
          "metadata": {},
          "execution_count": 27
        }
      ]
    },
    {
      "cell_type": "markdown",
      "source": [
        "# ADICIONANDO E REMOVENDO DADOS DO ARRAY"
      ],
      "metadata": {
        "id": "pc_JvylrCUY4"
      }
    },
    {
      "cell_type": "markdown",
      "source": [
        "Adicione mais 2 espécies ao array: [[204,10,40,12],[392,11,81,11]]"
      ],
      "metadata": {
        "id": "EcANrJ6caLpB"
      }
    },
    {
      "cell_type": "code",
      "source": [
        "novas_especies = np.array([[204,10,40,12],[392,11,81,11]])"
      ],
      "metadata": {
        "id": "bEFQ_Hb6aYyn"
      },
      "execution_count": null,
      "outputs": []
    },
    {
      "cell_type": "code",
      "source": [
        "np.concatenate((especies, novas_especies))"
      ],
      "metadata": {
        "colab": {
          "base_uri": "https://localhost:8080/"
        },
        "id": "bD2Z35K1_z17",
        "outputId": "278d3487-6bac-4778-a53e-cce157df8188"
      },
      "execution_count": null,
      "outputs": [
        {
          "output_type": "execute_result",
          "data": {
            "text/plain": [
              "array([[747,  89,  33,   5],\n",
              "       [623, 123,  32,  13],\n",
              "       [501,  22,  49,   2],\n",
              "       [116, 101,  42,  10],\n",
              "       [297,  56,  69,  22],\n",
              "       [613,  64,  27,   7],\n",
              "       [295,  84,  29,  14],\n",
              "       [692, 105,  72,  16],\n",
              "       [229, 103,  35,   5],\n",
              "       [374, 124,  70,   1],\n",
              "       [204,  10,  40,  12],\n",
              "       [392,  11,  81,  11]])"
            ]
          },
          "metadata": {},
          "execution_count": 29
        }
      ]
    },
    {
      "cell_type": "markdown",
      "source": [
        "Adicione mais uma coluna no array original agora com o número de espécies encontradas com que indica se o animal enxerga ou não: [0,1,0,0,0,0,1,0,1,1,0]."
      ],
      "metadata": {
        "id": "7EGj5ZpTaYFX"
      }
    },
    {
      "cell_type": "code",
      "source": [
        "especies.shape"
      ],
      "metadata": {
        "colab": {
          "base_uri": "https://localhost:8080/"
        },
        "id": "FIreqQxSBIqm",
        "outputId": "6e9e2cea-114d-4127-90da-c2a0f7e2e7d3"
      },
      "execution_count": null,
      "outputs": [
        {
          "output_type": "execute_result",
          "data": {
            "text/plain": [
              "(10, 4)"
            ]
          },
          "metadata": {},
          "execution_count": 33
        }
      ]
    },
    {
      "cell_type": "code",
      "source": [
        "ver = np.array([0,1,0,0,0,0,1,0,1,1]).reshape((10, 1))\n",
        "ver"
      ],
      "metadata": {
        "colab": {
          "base_uri": "https://localhost:8080/"
        },
        "id": "c9e7sMAMBO6F",
        "outputId": "f1edf7ee-16e8-4d26-cb4f-0ad361b455d6"
      },
      "execution_count": null,
      "outputs": [
        {
          "output_type": "execute_result",
          "data": {
            "text/plain": [
              "array([[0],\n",
              "       [1],\n",
              "       [0],\n",
              "       [0],\n",
              "       [0],\n",
              "       [0],\n",
              "       [1],\n",
              "       [0],\n",
              "       [1],\n",
              "       [1]])"
            ]
          },
          "metadata": {},
          "execution_count": 39
        }
      ]
    },
    {
      "cell_type": "code",
      "source": [
        "np.concatenate((especies, ver), axis=1)"
      ],
      "metadata": {
        "colab": {
          "base_uri": "https://localhost:8080/"
        },
        "id": "W94PWyCkavBI",
        "outputId": "163d193b-918a-48e9-cb80-8e4f96e127f3"
      },
      "execution_count": null,
      "outputs": [
        {
          "output_type": "execute_result",
          "data": {
            "text/plain": [
              "array([[747,  89,  33,   5,   0],\n",
              "       [623, 123,  32,  13,   1],\n",
              "       [501,  22,  49,   2,   0],\n",
              "       [116, 101,  42,  10,   0],\n",
              "       [297,  56,  69,  22,   0],\n",
              "       [613,  64,  27,   7,   0],\n",
              "       [295,  84,  29,  14,   1],\n",
              "       [692, 105,  72,  16,   0],\n",
              "       [229, 103,  35,   5,   1],\n",
              "       [374, 124,  70,   1,   1]])"
            ]
          },
          "metadata": {},
          "execution_count": 45
        }
      ]
    },
    {
      "cell_type": "markdown",
      "source": [],
      "metadata": {
        "id": "yEo71984CH7J"
      }
    },
    {
      "cell_type": "markdown",
      "source": [
        "# Salvando array"
      ],
      "metadata": {
        "id": "YLqtfMdqCJC6"
      }
    },
    {
      "cell_type": "code",
      "source": [
        "arr2d = np.array([[1, 2, 3], [4, 5, 6]])"
      ],
      "metadata": {
        "id": "j4S0SRCECQpQ"
      },
      "execution_count": null,
      "outputs": []
    },
    {
      "cell_type": "code",
      "source": [
        "arr2d"
      ],
      "metadata": {
        "colab": {
          "base_uri": "https://localhost:8080/"
        },
        "id": "ANusZTUVFkWe",
        "outputId": "f74258be-2807-4d1d-9481-51562ca5403a"
      },
      "execution_count": null,
      "outputs": [
        {
          "output_type": "execute_result",
          "data": {
            "text/plain": [
              "array([[1, 2, 3],\n",
              "       [4, 5, 6]])"
            ]
          },
          "metadata": {},
          "execution_count": 49
        }
      ]
    },
    {
      "cell_type": "code",
      "source": [
        "arr3d = np.array([[[1, 2, 3], [4, 5, 6]], [[1, 2, 3], [4, 5, 6]]])"
      ],
      "metadata": {
        "id": "2zXKKiuzFoo1"
      },
      "execution_count": null,
      "outputs": []
    },
    {
      "cell_type": "code",
      "source": [
        "arr3d.shape"
      ],
      "metadata": {
        "colab": {
          "base_uri": "https://localhost:8080/"
        },
        "id": "Q_YtW1AXGS7h",
        "outputId": "b924427d-c303-4bc3-94f2-09130ae48831"
      },
      "execution_count": null,
      "outputs": [
        {
          "output_type": "execute_result",
          "data": {
            "text/plain": [
              "(2, 2, 3)"
            ]
          },
          "metadata": {},
          "execution_count": 51
        }
      ]
    },
    {
      "cell_type": "code",
      "source": [],
      "metadata": {
        "id": "OWL56BUHGWvT"
      },
      "execution_count": null,
      "outputs": []
    }
  ]
}